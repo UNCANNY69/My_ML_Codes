{
  "nbformat": 4,
  "nbformat_minor": 0,
  "metadata": {
    "colab": {
      "name": "Fake_news_Factly.ipynb",
      "provenance": [],
      "collapsed_sections": [],
      "authorship_tag": "ABX9TyO9stTg6W828Mruwz8jnxSM",
      "include_colab_link": true
    },
    "kernelspec": {
      "name": "python3",
      "display_name": "Python 3"
    },
    "language_info": {
      "name": "python"
    }
  },
  "cells": [
    {
      "cell_type": "markdown",
      "metadata": {
        "id": "view-in-github",
        "colab_type": "text"
      },
      "source": [
        "<a href=\"https://colab.research.google.com/github/UNCANNY69/My_ML_Codes/blob/main/Fake_news_Factly.ipynb\" target=\"_parent\"><img src=\"https://colab.research.google.com/assets/colab-badge.svg\" alt=\"Open In Colab\"/></a>"
      ]
    },
    {
      "cell_type": "code",
      "execution_count": 62,
      "metadata": {
        "id": "D8whJDB0OFIO"
      },
      "outputs": [],
      "source": [
        "from urllib.request import Request, urlopen\n",
        "from bs4 import BeautifulSoup\n",
        "import pandas as pd"
      ]
    },
    {
      "cell_type": "code",
      "source": [
        "url = \"https://factly.in/category/fake-news-kannada/\"\n",
        "req = Request(url , headers = {'User-Agent' : 'Mozilla/5.0'})\n",
        "webpage = urlopen(req).read()\n",
        "soup = BeautifulSoup(webpage,\"html.parser\")"
      ],
      "metadata": {
        "id": "wuahjGwtOdht"
      },
      "execution_count": 63,
      "outputs": []
    },
    {
      "cell_type": "code",
      "source": [
        "table = []\n",
        "table.append(soup.find_all('h2', attrs = {'class':'post-title'}))\n"
      ],
      "metadata": {
        "id": "THSeLVgeTxvn"
      },
      "execution_count": 64,
      "outputs": []
    },
    {
      "cell_type": "code",
      "source": [
        "for i in range(2,44):\n",
        "    url = \"https://factly.in/category/fake-news-kannada/page/\" + str(i)\n",
        "    req = Request(url , headers = {'User-Agent' : 'Mozilla/5.0'})\n",
        "    webpage = urlopen(req).read()\n",
        "    soup = BeautifulSoup(webpage,\"html.parser\")\n",
        "    table.append(soup.find_all('h2', attrs = {'class':'post-title'}))"
      ],
      "metadata": {
        "id": "j1OWzncCkEoF"
      },
      "execution_count": 65,
      "outputs": []
    },
    {
      "cell_type": "code",
      "source": [
        "lists1 = []\n",
        "for i in range(0,42):\n",
        "  for j in range(1,11):\n",
        "    lists1.append(table[i][j].find('a'))"
      ],
      "metadata": {
        "id": "LrCObVaPlwTG"
      },
      "execution_count": 66,
      "outputs": []
    },
    {
      "cell_type": "code",
      "source": [
        "lists2 = []\n",
        "for url in lists1:\n",
        "  url = str(url)\n",
        "  url = url.split('\"')[1]\n",
        "  lists2.append(url)"
      ],
      "metadata": {
        "id": "FRGS3MS-mImr"
      },
      "execution_count": 67,
      "outputs": []
    },
    {
      "cell_type": "code",
      "source": [
        "table2 = []\n",
        "for links in lists2:\n",
        "  url = links\n",
        "  req = Request(url , headers = {'User-Agent' : 'Mozilla/5.0'})\n",
        "  webpage = urlopen(req).read()\n",
        "  soup = BeautifulSoup(webpage,\"html.parser\")\n",
        "  table2.append(soup.find_all('blockquote', attrs = {'class':'wp-block-quote'}))"
      ],
      "metadata": {
        "id": "J0PzKMB0sQEZ"
      },
      "execution_count": 124,
      "outputs": []
    },
    {
      "cell_type": "code",
      "source": [
        "lists3 = []\n",
        "for i in table2:\n",
        "  for j in i:\n",
        "    lists3.append(j.getText())\n",
        "lists3[185] = lists3[0]\n",
        "lists3[186] = lists3[0]"
      ],
      "metadata": {
        "id": "P05svvbZxyGd"
      },
      "execution_count": 137,
      "outputs": []
    },
    {
      "cell_type": "code",
      "source": [
        "lists4 =[]\n",
        "for index,data in enumerate(lists3):\n",
        "  lists4.append(data.split(\":\")[1])\n",
        "  # print(index,lists3[index])"
      ],
      "metadata": {
        "id": "qFRqfTNWziKl"
      },
      "execution_count": 138,
      "outputs": []
    },
    {
      "cell_type": "code",
      "source": [
        "for index,i in enumerate(lists4):\n",
        "  i = i.split(\".\")[:-1]\n",
        "  lists4[index] = \".\".join(i)\n"
      ],
      "metadata": {
        "id": "-fcb68nsrXa9"
      },
      "execution_count": 139,
      "outputs": []
    },
    {
      "cell_type": "code",
      "source": [
        "import openpyxl\n",
        "df = pd.DataFrame(lists4,columns=['FAKE_NEWS',])\n",
        "df.to_excel('factly_fakenews.xlsx', sheet_name='1',index=False)"
      ],
      "metadata": {
        "id": "sEmCVCkTtN4d"
      },
      "execution_count": 147,
      "outputs": []
    }
  ]
}